{
 "metadata": {
  "name": "analysis"
 },
 "nbformat": 3,
 "nbformat_minor": 0,
 "worksheets": [
  {
   "cells": [
    {
     "cell_type": "code",
     "collapsed": false,
     "input": [
      "import sunspot as r\n",
      "import scipy\n",
      "import pandas\n",
      "\n",
      "# step 1: copy the data files from my account on the hpc to your computer (run this in a terminal):\n",
      "# rsync -avz -e ssh --exclude=\"checkpoint*\" <your username>@hpc.msu.edu:/mnt/home/dk/research/src/sunspot/expr ./sunspot_data\n",
      "# this should create a directory \"sunspot_data\" whereever this command is run.\n",
      "\n",
      "# step 2: load the data for the 001-space-weather experiment into a data frame:\n",
      "# this is the path that I use; change this to point to the data on your computer:\n",
      "path = '/Users/dk/research/var/sunspot/001-space-weather'\n",
      "\n",
      "# WARNING: only look at one treatment at a time!  The new output format (enabling one to easily compare\n",
      "# observations and predictions across time) uses a lot memory!\n",
      "\n",
      "# this will recursively search from \"path,\" and load all sunspot test prediction files for the ssna0 treatment:\n",
      "D = r.load_files(r.find_files(path, \"ssna0_.*sunspot_test_predictions.dat\"))\n",
      "\n",
      "# for other treatments, just change the filter, e.g., to load apa0:\n",
      "# D = r.load_files(r.find_files(path, \"apa0_.*sunspot_test_predictions.dat\"))\n",
      "\n",
      "# we can run the analysis in a loop over the treatment types [\"ssna0\", \"apa0\", \"kpa0\", \"dst0\"] if needed"
     ],
     "language": "python",
     "metadata": {},
     "outputs": [],
     "prompt_number": 66
    },
    {
     "cell_type": "code",
     "collapsed": false,
     "input": [
      "print D, \"\\n\" # print the data frame; shows what columns are in the data files\n",
      "print D[\"treatment\"].unique(), \"\\n\" # should list out an array of treatment codes, e.g., \"ssna0\", \"apa0\"\n",
      "print D[\"trial\"].unique(), \"\\n\" # should list out an arrary of 1..30, one for each trial\n",
      "print D[\"t\"].unique(), \"\\n\" # should list out an arrary of 1..8, for each of the prediction horizons"
     ],
     "language": "python",
     "metadata": {},
     "outputs": [
      {
       "output_type": "stream",
       "stream": "stdout",
       "text": [
        "<class 'pandas.core.frame.DataFrame'>\n",
        "Int64Index: 1313880 entries, 0 to 1313879\n",
        "Data columns:\n",
        "sample       1313880  non-null values\n",
        "t            1313880  non-null values\n",
        "observed     1313880  non-null values\n",
        "predicted    1313880  non-null values\n",
        "treatment    1313880  non-null values\n",
        "trial        1313880  non-null values\n",
        "dtypes: float64(2), int64(2), object(2) \n",
        "\n",
        "[ssna0]"
       ]
      },
      {
       "output_type": "stream",
       "stream": "stdout",
       "text": [
        " \n",
        "\n",
        "[1 10 11 12 13 14 15 16 17 18 19 2 20 21 22 23 24 25 26 27 28 29 3 30 4 5 6\n",
        " 7 8 9]"
       ]
      },
      {
       "output_type": "stream",
       "stream": "stdout",
       "text": [
        " \n",
        "\n",
        "[1 2 3 4 5 6 7 8] \n",
        "\n"
       ]
      }
     ],
     "prompt_number": 71
    },
    {
     "cell_type": "code",
     "collapsed": true,
     "input": [
      "def error_indices(x):\n",
      "    \"\"\"Calculates a variety of error indices on x; x must have \"observed\" and \"predicted\" values.\n",
      "\n",
      "    Zero handling is a problem in these measurements, so we remove all values\n",
      "    where the denominator is zero.  This means that these metrics should be interpreted\n",
      "    as being specific to the non-zero denom samples; i.e, MAPE is the mean absolute\n",
      "    percentage error WHEN THERE IS A NON-ZERO OBSERVED VALUE, MRAE is the mean relative absolute\n",
      "    error WHEN BASE ERROR IS NON-ZERO, and so on.\"\"\"\n",
      "\n",
      "    # pandas series have some weird properties that make them less useful for these calculations, so let's\n",
      "    # convert them to numpy arrays:\n",
      "    obs = numpy.array(x[\"observed\"], dtype=float)\n",
      "    pre = numpy.array(x[\"predicted\"], dtype=float)\n",
      "    \n",
      "    # these are all vectors:\n",
      "    error = obs - pre\n",
      "    sqr_error = error**2\n",
      "    abs_error = fabs(error)\n",
      "    pct_error = 100.0 * (error / obs)[obs!=0]\n",
      "    sym_error = 2.0 * fabs(error / (obs + pre))[(obs + pre)!=0]\n",
      "    base_error = obs[1:] - pre[:-1]\n",
      "    rel_error = (error[1:]/base_error)[base_error!=0]\n",
      "    \n",
      "    # scalars:\n",
      "    maeb = mean(fabs(base_error))\n",
      "    mseb = mean(base_error**2)\n",
      "    rmseb = sqrt(mean(base_error**2))\n",
      "\n",
      "    return pandas.Series({\n",
      "        'MSE' : mean(sqr_error), #    ==> Mean Squared Error                       = mean(e^2_t)\n",
      "        'RMSE' : sqrt(mean(sqr_error)), # ==> Root Mean Squared Error                    = sqrt(MSE)\n",
      "        'MAE' : mean(abs_error), # ==> Mean Absolute Error                        = mean(abs(e_t))\n",
      "        'MDAE' : median(abs_error), # ==> Median Absolute Error                      = median(abs(e_t))\n",
      "        'MAPE' : mean(pct_error), # ==> Mean Absolute Percentage Error             = mean((p_t))\n",
      "        'MDAPE' : median(pct_error), #  ==> Median Absolute Percentage Error           = median((p_t))\n",
      "        'SMAPE' : mean(sym_error), # ==> Symmetric Mean Absolute Percentage Error   = mean(2abs(Y_t - F_t)/(Y_t + F_t))\n",
      "        'SMDAPE' : median(sym_error), # ==> Symmetric Median Absolute Percentage Error = median(2abs(Y_t - F_t)/(Y_t + F_t))\n",
      "        'MRAE' : mean(fabs(rel_error)), # ==> Mean Relative Absolute Error               = mean(abs(r_t))\n",
      "        'MDRAE' : median(fabs(rel_error)), # ==> Median Relative Absolute Error             = median(abs(r_t))\n",
      "        'GMRAE' : scipy.stats.gmean(fabs(rel_error[rel_error!=0])), # ==> Geometric Mean Relative Absolute Error     = gmean(abs(r_t))\n",
      "        'RELMAE' : mean(abs_error) / maeb, # ==> Relative Mean Absolute Error               = MAE / MAE_b\n",
      "        'RELMSE' : mean(sqr_error) / mseb, # ==> Relative Mean Squared Error                = MSE / MSE_b\n",
      "        'RELRMSE' : sqrt(mean(sqr_error)) / rmseb, # ==> Relative Root Mean Squared Error           = RMSE / RMSE_b\n",
      "        'LMR' : log(sqrt(mean(sqr_error)) / rmseb), # ==> Log Mean Squared Error Ratio               = log(RelRMSE)\n",
      "        'PB' : 100.0 * mean(rel_error[rel_error<1]), # ==> Percentage Better                          = 100 * mean(I{r_t < 1})\n",
      "        'PBMAE' : 100.0 * mean(abs_error[abs_error<maeb]), # ==> Percentage Better Mean Absolute Error      = 100 * mean(I{MAE < MAE_b})\n",
      "        'PBMSE' : 100.0 * mean(sqr_error[sqr_error<mseb]), #  ==> Percentage Better Mean Squared Error       = 100 * mean(I{MSE < MSE_b})\n",
      "        'PBRMSE' : 100.0 * sqrt(mean(sqr_error[sqr_error<rmseb])) # ==> Percentage Better Root Mean Squared Error  = 100 * sqrt(mean(I{MSE < MSE_b}))\n",
      "    })\n",
      "\n",
      "# now, apply the rmse function to each group, and reset the index so we can keep track of treatment and trial:\n",
      "R = D.groupby([\"treatment\",\"trial\",\"t\"]).apply(error_indices).reset_index()"
     ],
     "language": "python",
     "metadata": {},
     "outputs": [],
     "prompt_number": 284
    },
    {
     "cell_type": "code",
     "collapsed": false,
     "input": [
      "# let's take a look:\n",
      "for i,g in R.groupby(\"t\"):\n",
      "    print i, \": \", g[\"RMSE\"].min()"
     ],
     "language": "python",
     "metadata": {},
     "outputs": [
      {
       "output_type": "stream",
       "stream": "stdout",
       "text": [
        "1 :  14.3871963991\n",
        "2 :  21.1472013833\n",
        "3 :  26.2364194931\n",
        "4 :  30.4956048933\n",
        "5 :  33.3566575929\n",
        "6 :  36.2196942631\n",
        "7 :  37.7284803695\n",
        "8 :  38.8229699272\n"
       ]
      }
     ],
     "prompt_number": 302
    }
   ],
   "metadata": {}
  }
 ]
}