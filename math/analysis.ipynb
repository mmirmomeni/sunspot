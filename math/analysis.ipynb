{
 "metadata": {
  "name": "analysis"
 },
 "nbformat": 3,
 "nbformat_minor": 0,
 "worksheets": [
  {
   "cells": [
    {
     "cell_type": "code",
     "collapsed": false,
     "input": [
      "import sunspot as r\n",
      "import scipy\n",
      "import pandas\n",
      "\n",
      "# step 1: copy the data files from my account on the hpc to your computer (run this in a terminal):\n",
      "# rsync -avz -e ssh --exclude=\"checkpoint*\" <your username>@hpc.msu.edu:/mnt/home/dk/research/src/sunspot/expr ./sunspot_data\n",
      "# this should create a directory \"sunspot_data\" whereever this command is run.\n",
      "\n",
      "# step 2: load the data for the 001-space-weather experiment into a data frame:\n",
      "# path = './sunspot_data/001-space-weather' # change this path to look at different experiments\n",
      "path = './sunspot_data/001-space-weather' # change this path to look at different experiments\n",
      "\n",
      "# this will recursively search from \"path,\" and load all files that match the sunspot detailed test files:\n",
      "D = r.load_files(r.find_files(path, \"sunspot_test_detail.dat\"))\n"
     ],
     "language": "python",
     "metadata": {},
     "outputs": [],
     "prompt_number": 2
    },
    {
     "cell_type": "code",
     "collapsed": false,
     "input": [
      "# if we print the data frame, we can see the column names that were contained in the data files:\n",
      "print D, \"\\n\"\n",
      "\n",
      "# what treatments / trials do we have?\n",
      "print D[\"treatment\"].unique(), \"\\n\" # should list out an array of treatment codes, e.g., \"ssna0\", \"apa0\"\n",
      "print D[\"trial\"].unique(), \"\\n\" # should list out an arrary of 1..30\n",
      "\n",
      "# now let's analyze them.  we'll first define our error function:\n",
      "def rmse(x):\n",
      "    return sqrt(mean((x[\"observed\"] - x[\"tplus1\"]) ** 2))\n",
      "\n",
      "for treatment,expr in D.groupby(\"treatment\"): # group by treatment\n",
      "    for trial,d in expr.groupby(\"trial\"): # then by trial\n",
      "        # each \"d\" is the result of one single evolutionary run, and it contains the data from the sunspot test detail loaded above.\n",
      "        # here are the treatment,trial pairs we'll be looking at (commented out to cut down on output)\n",
      "        # print treatment, trial\n",
      "        \n",
      "        # and now we can calculate our error index on the data:\n",
      "        print treatment, trial, rmse(d)\n"
     ],
     "language": "python",
     "metadata": {},
     "outputs": [
      {
       "ename": "TypeError",
       "evalue": "'NoneType' object has no attribute '__getitem__'",
       "output_type": "pyerr",
       "traceback": [
        "\u001b[0;31m---------------------------------------------------------------------------\u001b[0m\n\u001b[0;31mTypeError\u001b[0m                                 Traceback (most recent call last)",
        "\u001b[0;32m<ipython-input-3-fbc4529ec07c>\u001b[0m in \u001b[0;36m<module>\u001b[0;34m()\u001b[0m\n\u001b[1;32m      3\u001b[0m \u001b[0;34m\u001b[0m\u001b[0m\n\u001b[1;32m      4\u001b[0m \u001b[0;31m# what treatments / trials do we have?\u001b[0m\u001b[0;34m\u001b[0m\u001b[0;34m\u001b[0m\u001b[0m\n\u001b[0;32m----> 5\u001b[0;31m \u001b[0;32mprint\u001b[0m \u001b[0mD\u001b[0m\u001b[0;34m[\u001b[0m\u001b[0;34m\"treatment\"\u001b[0m\u001b[0;34m]\u001b[0m\u001b[0;34m.\u001b[0m\u001b[0munique\u001b[0m\u001b[0;34m(\u001b[0m\u001b[0;34m)\u001b[0m\u001b[0;34m,\u001b[0m \u001b[0;34m\"\\n\"\u001b[0m \u001b[0;31m# should list out an array of treatment codes, e.g., \"ssna0\", \"apa0\"\u001b[0m\u001b[0;34m\u001b[0m\u001b[0m\n\u001b[0m\u001b[1;32m      6\u001b[0m \u001b[0;32mprint\u001b[0m \u001b[0mD\u001b[0m\u001b[0;34m[\u001b[0m\u001b[0;34m\"trial\"\u001b[0m\u001b[0;34m]\u001b[0m\u001b[0;34m.\u001b[0m\u001b[0munique\u001b[0m\u001b[0;34m(\u001b[0m\u001b[0;34m)\u001b[0m\u001b[0;34m,\u001b[0m \u001b[0;34m\"\\n\"\u001b[0m \u001b[0;31m# should list out an arrary of 1..30\u001b[0m\u001b[0;34m\u001b[0m\u001b[0m\n\u001b[1;32m      7\u001b[0m \u001b[0;34m\u001b[0m\u001b[0m\n",
        "\u001b[0;31mTypeError\u001b[0m: 'NoneType' object has no attribute '__getitem__'"
       ]
      },
      {
       "output_type": "stream",
       "stream": "stdout",
       "text": [
        "None \n",
        "\n"
       ]
      }
     ],
     "prompt_number": 3
    },
    {
     "cell_type": "code",
     "collapsed": true,
     "input": [
      "# this code does the same thing as above, but much more concisely:\n",
      "\n",
      "# first, redefine rmse so that it labels the result.  note that this function could return\n",
      "# ALL the different error metrics!\n",
      "def rmse(x):\n",
      "    err = sqrt(mean((x[\"observed\"] - x[\"tplus1\"]) ** 2))\n",
      "    return pandas.Series([err], index=[\"rmse\"])\n",
      "\n",
      "# now, apply the new rmse function to each group, and reset the index so we can keep track of treatment and trial:\n",
      "R = D.groupby([\"treatment\",\"trial\"]).apply(rmse).reset_index()\n",
      "\n",
      "# now let's grab the minimum rmse for each treatment:\n",
      "for k,v in R.groupby(\"treatment\"):\n",
      "    print v.ix[v['rmse'].idxmin()]\n"
     ],
     "language": "python",
     "metadata": {},
     "outputs": []
    }
   ],
   "metadata": {}
  }
 ]
}