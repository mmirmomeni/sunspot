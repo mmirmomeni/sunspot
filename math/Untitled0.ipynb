{
 "metadata": {
  "name": "Untitled0"
 },
 "nbformat": 3,
 "nbformat_minor": 0,
 "worksheets": [
  {
   "cells": [
    {
     "cell_type": "code",
     "collapsed": false,
     "input": [
      "import sunspot as r\n",
      "import scipy\n",
      "import pandas\n",
      "\n",
      "# step 1: copy the data files from my account on the hpc to your computer (run this in a terminal):\n",
      "# rsync -avz -e ssh --exclude=\"checkpoint*\" <your username>@hpc.msu.edu:/mnt/home/dk/research/src/sunspot/expr ./sunspot_data\n",
      "# this should create a directory \"sunspot_data\" whereever this command is run.\n",
      "\n",
      "# step 2: load the data for the 001-space-weather experiment into a data frame:\n",
      "# path = './sunspot_data/001-space-weather' # change this path to look at different experiments\n",
      "path = '/Users/mirmomeny/Desktop/PredictionMarkovNetwork/sunspot/ErrorIndexCalculation/sunspot_data/expr/001-space-weather' # change this path to look at different experiments\n",
      "\n",
      "# this will recursively search from \"path,\" and load all files that match the sunspot detailed test files:\n",
      "D = r.load_files(r.find_files(path, \"sunspot_test_detail.dat\"))"
     ],
     "language": "python",
     "metadata": {},
     "outputs": [],
     "prompt_number": 1
    },
    {
     "cell_type": "code",
     "collapsed": false,
     "input": [
      "# if we print the data frame, we can see the column names that were contained in the data files:\n",
      "print D, \"\\n\"\n",
      "\n",
      "# what treatments / trials do we have?\n",
      "print D[\"treatment\"].unique(), \"\\n\" # should list out an array of treatment codes, e.g., \"ssna0\", \"apa0\"\n",
      "print D[\"trial\"].unique(), \"\\n\" # should list out an arrary of 1..30\n",
      "\n",
      "# now let's analyze them.  we'll first define our error function:"
     ],
     "language": "python",
     "metadata": {},
     "outputs": [
      {
       "output_type": "stream",
       "stream": "stdout",
       "text": [
        "<class 'pandas.core.frame.DataFrame'>\n",
        "Int64Index: 1093221 entries, 0 to 1093220\n",
        "Data columns (total 11 columns):\n",
        "observed     1093221  non-null values\n",
        "tplus1       1093221  non-null values\n",
        "tplus2       1093221  non-null values\n",
        "tplus3       1093221  non-null values\n",
        "tplus4       1093221  non-null values\n",
        "tplus5       1093221  non-null values\n",
        "tplus6       1093221  non-null values\n",
        "tplus7       1093221  non-null values\n",
        "tplus8       1093221  non-null values\n",
        "treatment    1093221  non-null values\n",
        "trial        1093221  non-null values\n",
        "dtypes: int64(9), object(2) \n",
        "\n",
        "['apa0' 'dsta0' 'kpa0' 'ssna0' 'ssnb0']"
       ]
      },
      {
       "output_type": "stream",
       "stream": "stdout",
       "text": [
        " \n",
        "\n",
        "['1' '10' '11' '12' '13' '14' '15' '16' '17' '18' '19' '2' '20' '21' '22'\n",
        " '23' '24' '25' '26' '27' '28' '29' '3' '30' '4' '5' '6' '7' '8' '9']"
       ]
      },
      {
       "output_type": "stream",
       "stream": "stdout",
       "text": [
        " \n",
        "\n"
       ]
      }
     ],
     "prompt_number": 2
    },
    {
     "cell_type": "code",
     "collapsed": false,
     "input": [
      "print D[\"treatment\"].unique(), \"\\n\""
     ],
     "language": "python",
     "metadata": {},
     "outputs": [
      {
       "output_type": "stream",
       "stream": "stdout",
       "text": [
        "['apa0' 'dsta0' 'kpa0' 'ssna0' 'ssnb0'] \n",
        "\n"
       ]
      }
     ],
     "prompt_number": 3
    },
    {
     "cell_type": "code",
     "collapsed": false,
     "input": [
      "print D[\"observed\"][1:10], \"\\n\""
     ],
     "language": "python",
     "metadata": {},
     "outputs": [
      {
       "output_type": "stream",
       "stream": "stdout",
       "text": [
        "1     9\n",
        "2    18\n",
        "3    18\n",
        "4    32\n",
        "5    48\n",
        "6    48\n",
        "7    32\n",
        "8    15\n",
        "9     7\n",
        "Name: observed, dtype: int64 \n",
        "\n"
       ]
      }
     ],
     "prompt_number": 4
    },
    {
     "cell_type": "code",
     "collapsed": false,
     "input": [
      "%pylab inline"
     ],
     "language": "python",
     "metadata": {},
     "outputs": [
      {
       "output_type": "stream",
       "stream": "stdout",
       "text": [
        "\n",
        "Welcome to pylab, a matplotlib-based Python environment [backend: module://IPython.kernel.zmq.pylab.backend_inline].\n",
        "For more information, type 'help(pylab)'.\n"
       ]
      }
     ],
     "prompt_number": 5
    },
    {
     "cell_type": "code",
     "collapsed": false,
     "input": [
      "print size(D), \"\\n\""
     ],
     "language": "python",
     "metadata": {},
     "outputs": [
      {
       "output_type": "stream",
       "stream": "stdout",
       "text": [
        "12025431 \n",
        "\n"
       ]
      }
     ],
     "prompt_number": 6
    },
    {
     "cell_type": "code",
     "collapsed": false,
     "input": [
      "print D[\"observed\"][1:3], \"\\n\""
     ],
     "language": "python",
     "metadata": {},
     "outputs": [
      {
       "output_type": "stream",
       "stream": "stdout",
       "text": [
        "1     9\n",
        "2    18\n",
        "Name: observed, dtype: int64 \n",
        "\n"
       ]
      }
     ],
     "prompt_number": 7
    },
    {
     "cell_type": "code",
     "collapsed": false,
     "input": [
      "print D[\"observed\"][:3][1:], \"\\n\""
     ],
     "language": "python",
     "metadata": {},
     "outputs": [
      {
       "output_type": "stream",
       "stream": "stdout",
       "text": [
        "1     9\n",
        "2    18\n",
        "Name: observed, dtype: int64 \n",
        "\n"
       ]
      }
     ],
     "prompt_number": 25
    },
    {
     "cell_type": "code",
     "collapsed": false,
     "input": [],
     "language": "python",
     "metadata": {},
     "outputs": []
    }
   ],
   "metadata": {}
  }
 ]
}